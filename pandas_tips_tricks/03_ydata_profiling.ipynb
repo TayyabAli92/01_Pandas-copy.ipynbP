{
 "cells": [
  {
   "cell_type": "markdown",
   "metadata": {},
   "source": [
    "# Autometic EDA using `ydata_profiling`"
   ]
  },
  {
   "cell_type": "code",
   "execution_count": 2,
   "metadata": {},
   "outputs": [
    {
     "name": "stderr",
     "output_type": "stream",
     "text": [
      "c:\\Users\\Dell\\miniconda3\\envs\\ydata_profiling\\lib\\site-packages\\tqdm\\auto.py:21: TqdmWarning: IProgress not found. Please update jupyter and ipywidgets. See https://ipywidgets.readthedocs.io/en/stable/user_install.html\n",
      "  from .autonotebook import tqdm as notebook_tqdm\n"
     ]
    }
   ],
   "source": [
    "# import libraries \n",
    "import pandas as pd\n",
    "import seaborn as sns\n",
    "import ydata_profiling as yd "
   ]
  },
  {
   "cell_type": "code",
   "execution_count": 3,
   "metadata": {},
   "outputs": [],
   "source": [
    "# import data from seaborn\n",
    "df = sns.load_dataset('titanic')"
   ]
  },
  {
   "cell_type": "code",
   "execution_count": 4,
   "metadata": {},
   "outputs": [
    {
     "name": "stderr",
     "output_type": "stream",
     "text": [
      "Summarize dataset:   0%|          | 0/5 [00:00<?, ?it/s]"
     ]
    },
    {
     "name": "stderr",
     "output_type": "stream",
     "text": [
      "Summarize dataset: 100%|██████████| 41/41 [00:30<00:00,  1.34it/s, Completed]                    \n",
      "Generate report structure: 100%|██████████| 1/1 [00:16<00:00, 16.11s/it]\n",
      "Render HTML: 100%|██████████| 1/1 [00:04<00:00,  4.62s/it]\n",
      "Export report to file: 100%|██████████| 1/1 [00:00<00:00, 40.00it/s]\n"
     ]
    }
   ],
   "source": [
    "# ydata profile report\n",
    "profile = yd.ProfileReport(df)\n",
    "profile.to_file(output_file='./output/03_ydata_titanic.html')"
   ]
  },
  {
   "cell_type": "code",
   "execution_count": 1,
   "metadata": {},
   "outputs": [
    {
     "ename": "NameError",
     "evalue": "name 'df' is not defined",
     "output_type": "error",
     "traceback": [
      "\u001b[1;31m---------------------------------------------------------------------------\u001b[0m",
      "\u001b[1;31mNameError\u001b[0m                                 Traceback (most recent call last)",
      "\u001b[1;32me:\\Pandas_practice\\pandas_tips_tricks\\03_ydata_profiling.ipynb Cell 5\u001b[0m line \u001b[0;36m1\n\u001b[1;32m----> <a href='vscode-notebook-cell:/e%3A/Pandas_practice/pandas_tips_tricks/03_ydata_profiling.ipynb#X11sZmlsZQ%3D%3D?line=0'>1</a>\u001b[0m df\u001b[39m.\u001b[39mhead()\n",
      "\u001b[1;31mNameError\u001b[0m: name 'df' is not defined"
     ]
    }
   ],
   "source": [
    "df.head()"
   ]
  },
  {
   "cell_type": "markdown",
   "metadata": {},
   "source": [
    "# Do it on our Pakistan Population Dataset"
   ]
  },
  {
   "cell_type": "code",
   "execution_count": 5,
   "metadata": {},
   "outputs": [],
   "source": [
    "df_pop = pd.read_csv(\"./Data/data.csv\")"
   ]
  },
  {
   "cell_type": "code",
   "execution_count": 6,
   "metadata": {},
   "outputs": [
    {
     "name": "stderr",
     "output_type": "stream",
     "text": [
      "Summarize dataset:   0%|          | 0/5 [00:00<?, ?it/s]"
     ]
    },
    {
     "name": "stderr",
     "output_type": "stream",
     "text": [
      "Summarize dataset:  50%|████▉     | 158/317 [01:24<01:24,  1.88it/s, scatter POPULATION 1998 (URBAN), POPULATION 1998 (RURAL)]      \n"
     ]
    },
    {
     "ename": "KeyboardInterrupt",
     "evalue": "",
     "output_type": "error",
     "traceback": [
      "\u001b[1;31m---------------------------------------------------------------------------\u001b[0m",
      "\u001b[1;31mKeyboardInterrupt\u001b[0m                         Traceback (most recent call last)",
      "\u001b[1;32me:\\Pandas_practice\\pandas_tips_tricks\\03_ydata_profiling.ipynb Cell 8\u001b[0m line \u001b[0;36m3\n\u001b[0;32m      <a href='vscode-notebook-cell:/e%3A/Pandas_practice/pandas_tips_tricks/03_ydata_profiling.ipynb#W6sZmlsZQ%3D%3D?line=0'>1</a>\u001b[0m \u001b[39m# ydata profile report\u001b[39;00m\n\u001b[0;32m      <a href='vscode-notebook-cell:/e%3A/Pandas_practice/pandas_tips_tricks/03_ydata_profiling.ipynb#W6sZmlsZQ%3D%3D?line=1'>2</a>\u001b[0m profile \u001b[39m=\u001b[39m yd\u001b[39m.\u001b[39mProfileReport(df_pop)\n\u001b[1;32m----> <a href='vscode-notebook-cell:/e%3A/Pandas_practice/pandas_tips_tricks/03_ydata_profiling.ipynb#W6sZmlsZQ%3D%3D?line=2'>3</a>\u001b[0m profile\u001b[39m.\u001b[39;49mto_file(output_file\u001b[39m=\u001b[39;49m\u001b[39m'\u001b[39;49m\u001b[39m./output/03_ydata_pak_population.html\u001b[39;49m\u001b[39m'\u001b[39;49m)\n",
      "File \u001b[1;32mc:\\Users\\Dell\\miniconda3\\envs\\ydata_profiling\\lib\\site-packages\\ydata_profiling\\profile_report.py:355\u001b[0m, in \u001b[0;36mProfileReport.to_file\u001b[1;34m(self, output_file, silent)\u001b[0m\n\u001b[0;32m    352\u001b[0m         \u001b[39mself\u001b[39m\u001b[39m.\u001b[39mconfig\u001b[39m.\u001b[39mhtml\u001b[39m.\u001b[39massets_prefix \u001b[39m=\u001b[39m \u001b[39mstr\u001b[39m(output_file\u001b[39m.\u001b[39mstem) \u001b[39m+\u001b[39m \u001b[39m\"\u001b[39m\u001b[39m_assets\u001b[39m\u001b[39m\"\u001b[39m\n\u001b[0;32m    353\u001b[0m     create_html_assets(\u001b[39mself\u001b[39m\u001b[39m.\u001b[39mconfig, output_file)\n\u001b[1;32m--> 355\u001b[0m data \u001b[39m=\u001b[39m \u001b[39mself\u001b[39m\u001b[39m.\u001b[39mto_html()\n\u001b[0;32m    357\u001b[0m \u001b[39mif\u001b[39;00m output_file\u001b[39m.\u001b[39msuffix \u001b[39m!=\u001b[39m \u001b[39m\"\u001b[39m\u001b[39m.html\u001b[39m\u001b[39m\"\u001b[39m:\n\u001b[0;32m    358\u001b[0m     suffix \u001b[39m=\u001b[39m output_file\u001b[39m.\u001b[39msuffix\n",
      "File \u001b[1;32mc:\\Users\\Dell\\miniconda3\\envs\\ydata_profiling\\lib\\site-packages\\ydata_profiling\\profile_report.py:470\u001b[0m, in \u001b[0;36mProfileReport.to_html\u001b[1;34m(self)\u001b[0m\n\u001b[0;32m    462\u001b[0m \u001b[39mdef\u001b[39;00m \u001b[39mto_html\u001b[39m(\u001b[39mself\u001b[39m) \u001b[39m-\u001b[39m\u001b[39m>\u001b[39m \u001b[39mstr\u001b[39m:\n\u001b[0;32m    463\u001b[0m \u001b[39m    \u001b[39m\u001b[39m\"\"\"Generate and return complete template as lengthy string\u001b[39;00m\n\u001b[0;32m    464\u001b[0m \u001b[39m        for using with frameworks.\u001b[39;00m\n\u001b[0;32m    465\u001b[0m \n\u001b[1;32m   (...)\u001b[0m\n\u001b[0;32m    468\u001b[0m \n\u001b[0;32m    469\u001b[0m \u001b[39m    \"\"\"\u001b[39;00m\n\u001b[1;32m--> 470\u001b[0m     \u001b[39mreturn\u001b[39;00m \u001b[39mself\u001b[39m\u001b[39m.\u001b[39mhtml\n",
      "File \u001b[1;32mc:\\Users\\Dell\\miniconda3\\envs\\ydata_profiling\\lib\\site-packages\\ydata_profiling\\profile_report.py:277\u001b[0m, in \u001b[0;36mProfileReport.html\u001b[1;34m(self)\u001b[0m\n\u001b[0;32m    274\u001b[0m \u001b[39m@property\u001b[39m\n\u001b[0;32m    275\u001b[0m \u001b[39mdef\u001b[39;00m \u001b[39mhtml\u001b[39m(\u001b[39mself\u001b[39m) \u001b[39m-\u001b[39m\u001b[39m>\u001b[39m \u001b[39mstr\u001b[39m:\n\u001b[0;32m    276\u001b[0m     \u001b[39mif\u001b[39;00m \u001b[39mself\u001b[39m\u001b[39m.\u001b[39m_html \u001b[39mis\u001b[39;00m \u001b[39mNone\u001b[39;00m:\n\u001b[1;32m--> 277\u001b[0m         \u001b[39mself\u001b[39m\u001b[39m.\u001b[39m_html \u001b[39m=\u001b[39m \u001b[39mself\u001b[39m\u001b[39m.\u001b[39m_render_html()\n\u001b[0;32m    278\u001b[0m     \u001b[39mreturn\u001b[39;00m \u001b[39mself\u001b[39m\u001b[39m.\u001b[39m_html\n",
      "File \u001b[1;32mc:\\Users\\Dell\\miniconda3\\envs\\ydata_profiling\\lib\\site-packages\\ydata_profiling\\profile_report.py:385\u001b[0m, in \u001b[0;36mProfileReport._render_html\u001b[1;34m(self)\u001b[0m\n\u001b[0;32m    382\u001b[0m \u001b[39mdef\u001b[39;00m \u001b[39m_render_html\u001b[39m(\u001b[39mself\u001b[39m) \u001b[39m-\u001b[39m\u001b[39m>\u001b[39m \u001b[39mstr\u001b[39m:\n\u001b[0;32m    383\u001b[0m     \u001b[39mfrom\u001b[39;00m \u001b[39mydata_profiling\u001b[39;00m\u001b[39m.\u001b[39;00m\u001b[39mreport\u001b[39;00m\u001b[39m.\u001b[39;00m\u001b[39mpresentation\u001b[39;00m\u001b[39m.\u001b[39;00m\u001b[39mflavours\u001b[39;00m \u001b[39mimport\u001b[39;00m HTMLReport\n\u001b[1;32m--> 385\u001b[0m     report \u001b[39m=\u001b[39m \u001b[39mself\u001b[39m\u001b[39m.\u001b[39mreport\n\u001b[0;32m    387\u001b[0m     \u001b[39mwith\u001b[39;00m tqdm(\n\u001b[0;32m    388\u001b[0m         total\u001b[39m=\u001b[39m\u001b[39m1\u001b[39m, desc\u001b[39m=\u001b[39m\u001b[39m\"\u001b[39m\u001b[39mRender HTML\u001b[39m\u001b[39m\"\u001b[39m, disable\u001b[39m=\u001b[39m\u001b[39mnot\u001b[39;00m \u001b[39mself\u001b[39m\u001b[39m.\u001b[39mconfig\u001b[39m.\u001b[39mprogress_bar\n\u001b[0;32m    389\u001b[0m     ) \u001b[39mas\u001b[39;00m pbar:\n\u001b[0;32m    390\u001b[0m         html \u001b[39m=\u001b[39m HTMLReport(copy\u001b[39m.\u001b[39mdeepcopy(report))\u001b[39m.\u001b[39mrender(\n\u001b[0;32m    391\u001b[0m             nav\u001b[39m=\u001b[39m\u001b[39mself\u001b[39m\u001b[39m.\u001b[39mconfig\u001b[39m.\u001b[39mhtml\u001b[39m.\u001b[39mnavbar_show,\n\u001b[0;32m    392\u001b[0m             offline\u001b[39m=\u001b[39m\u001b[39mself\u001b[39m\u001b[39m.\u001b[39mconfig\u001b[39m.\u001b[39mhtml\u001b[39m.\u001b[39muse_local_assets,\n\u001b[1;32m   (...)\u001b[0m\n\u001b[0;32m    400\u001b[0m             version\u001b[39m=\u001b[39m\u001b[39mself\u001b[39m\u001b[39m.\u001b[39mdescription_set\u001b[39m.\u001b[39mpackage[\u001b[39m\"\u001b[39m\u001b[39mydata_profiling_version\u001b[39m\u001b[39m\"\u001b[39m],\n\u001b[0;32m    401\u001b[0m         )\n",
      "File \u001b[1;32mc:\\Users\\Dell\\miniconda3\\envs\\ydata_profiling\\lib\\site-packages\\ydata_profiling\\profile_report.py:271\u001b[0m, in \u001b[0;36mProfileReport.report\u001b[1;34m(self)\u001b[0m\n\u001b[0;32m    268\u001b[0m \u001b[39m@property\u001b[39m\n\u001b[0;32m    269\u001b[0m \u001b[39mdef\u001b[39;00m \u001b[39mreport\u001b[39m(\u001b[39mself\u001b[39m) \u001b[39m-\u001b[39m\u001b[39m>\u001b[39m Root:\n\u001b[0;32m    270\u001b[0m     \u001b[39mif\u001b[39;00m \u001b[39mself\u001b[39m\u001b[39m.\u001b[39m_report \u001b[39mis\u001b[39;00m \u001b[39mNone\u001b[39;00m:\n\u001b[1;32m--> 271\u001b[0m         \u001b[39mself\u001b[39m\u001b[39m.\u001b[39m_report \u001b[39m=\u001b[39m get_report_structure(\u001b[39mself\u001b[39m\u001b[39m.\u001b[39mconfig, \u001b[39mself\u001b[39m\u001b[39m.\u001b[39mdescription_set)\n\u001b[0;32m    272\u001b[0m     \u001b[39mreturn\u001b[39;00m \u001b[39mself\u001b[39m\u001b[39m.\u001b[39m_report\n",
      "File \u001b[1;32mc:\\Users\\Dell\\miniconda3\\envs\\ydata_profiling\\lib\\site-packages\\ydata_profiling\\profile_report.py:253\u001b[0m, in \u001b[0;36mProfileReport.description_set\u001b[1;34m(self)\u001b[0m\n\u001b[0;32m    250\u001b[0m \u001b[39m@property\u001b[39m\n\u001b[0;32m    251\u001b[0m \u001b[39mdef\u001b[39;00m \u001b[39mdescription_set\u001b[39m(\u001b[39mself\u001b[39m) \u001b[39m-\u001b[39m\u001b[39m>\u001b[39m BaseDescription:\n\u001b[0;32m    252\u001b[0m     \u001b[39mif\u001b[39;00m \u001b[39mself\u001b[39m\u001b[39m.\u001b[39m_description_set \u001b[39mis\u001b[39;00m \u001b[39mNone\u001b[39;00m:\n\u001b[1;32m--> 253\u001b[0m         \u001b[39mself\u001b[39m\u001b[39m.\u001b[39m_description_set \u001b[39m=\u001b[39m describe_df(\n\u001b[0;32m    254\u001b[0m             \u001b[39mself\u001b[39m\u001b[39m.\u001b[39mconfig,\n\u001b[0;32m    255\u001b[0m             \u001b[39mself\u001b[39m\u001b[39m.\u001b[39mdf,\n\u001b[0;32m    256\u001b[0m             \u001b[39mself\u001b[39m\u001b[39m.\u001b[39msummarizer,\n\u001b[0;32m    257\u001b[0m             \u001b[39mself\u001b[39m\u001b[39m.\u001b[39mtypeset,\n\u001b[0;32m    258\u001b[0m             \u001b[39mself\u001b[39m\u001b[39m.\u001b[39m_sample,\n\u001b[0;32m    259\u001b[0m         )\n\u001b[0;32m    260\u001b[0m     \u001b[39mreturn\u001b[39;00m \u001b[39mself\u001b[39m\u001b[39m.\u001b[39m_description_set\n",
      "File \u001b[1;32mc:\\Users\\Dell\\miniconda3\\envs\\ydata_profiling\\lib\\site-packages\\ydata_profiling\\model\\describe.py:130\u001b[0m, in \u001b[0;36mdescribe\u001b[1;34m(config, df, summarizer, typeset, sample)\u001b[0m\n\u001b[0;32m    126\u001b[0m scatter_matrix: Dict[Any, Dict[Any, Any]] \u001b[39m=\u001b[39m {\n\u001b[0;32m    127\u001b[0m     x: {y: \u001b[39mNone\u001b[39;00m} \u001b[39mfor\u001b[39;00m x, y \u001b[39min\u001b[39;00m scatter_tasks\n\u001b[0;32m    128\u001b[0m }\n\u001b[0;32m    129\u001b[0m \u001b[39mfor\u001b[39;00m x, y \u001b[39min\u001b[39;00m scatter_tasks:\n\u001b[1;32m--> 130\u001b[0m     scatter_matrix[x][y] \u001b[39m=\u001b[39m progress(\n\u001b[0;32m    131\u001b[0m         get_scatter_plot, pbar, \u001b[39mf\u001b[39;49m\u001b[39m\"\u001b[39;49m\u001b[39mscatter \u001b[39;49m\u001b[39m{\u001b[39;49;00mx\u001b[39m}\u001b[39;49;00m\u001b[39m, \u001b[39;49m\u001b[39m{\u001b[39;49;00my\u001b[39m}\u001b[39;49;00m\u001b[39m\"\u001b[39;49m\n\u001b[0;32m    132\u001b[0m     )(config, df, x, y, interval_columns)\n\u001b[0;32m    134\u001b[0m \u001b[39m# missing diagrams\u001b[39;00m\n\u001b[0;32m    135\u001b[0m missing_map \u001b[39m=\u001b[39m get_missing_active(config, table_stats)\n",
      "File \u001b[1;32mc:\\Users\\Dell\\miniconda3\\envs\\ydata_profiling\\lib\\site-packages\\ydata_profiling\\utils\\progress_bar.py:11\u001b[0m, in \u001b[0;36mprogress.<locals>.inner\u001b[1;34m(*args, **kwargs)\u001b[0m\n\u001b[0;32m      8\u001b[0m \u001b[39m@wraps\u001b[39m(fn)\n\u001b[0;32m      9\u001b[0m \u001b[39mdef\u001b[39;00m \u001b[39minner\u001b[39m(\u001b[39m*\u001b[39margs, \u001b[39m*\u001b[39m\u001b[39m*\u001b[39mkwargs) \u001b[39m-\u001b[39m\u001b[39m>\u001b[39m Any:\n\u001b[0;32m     10\u001b[0m     bar\u001b[39m.\u001b[39mset_postfix_str(message)\n\u001b[1;32m---> 11\u001b[0m     ret \u001b[39m=\u001b[39m fn(\u001b[39m*\u001b[39margs, \u001b[39m*\u001b[39m\u001b[39m*\u001b[39mkwargs)\n\u001b[0;32m     12\u001b[0m     bar\u001b[39m.\u001b[39mupdate()\n\u001b[0;32m     13\u001b[0m     \u001b[39mreturn\u001b[39;00m ret\n",
      "File \u001b[1;32mc:\\Users\\Dell\\miniconda3\\envs\\ydata_profiling\\lib\\site-packages\\ydata_profiling\\model\\pairwise.py:31\u001b[0m, in \u001b[0;36mget_scatter_plot\u001b[1;34m(config, df, x, y, continuous_variables)\u001b[0m\n\u001b[0;32m     29\u001b[0m     \u001b[39melse\u001b[39;00m:\n\u001b[0;32m     30\u001b[0m         df_temp \u001b[39m=\u001b[39m df[[x, y]]\u001b[39m.\u001b[39mdropna()\n\u001b[1;32m---> 31\u001b[0m     \u001b[39mreturn\u001b[39;00m scatter_pairwise(config, df_temp[x], df_temp[y], x, y)\n\u001b[0;32m     32\u001b[0m \u001b[39melse\u001b[39;00m:\n\u001b[0;32m     33\u001b[0m     \u001b[39mreturn\u001b[39;00m \u001b[39m\"\u001b[39m\u001b[39m\"\u001b[39m\n",
      "File \u001b[1;32mc:\\Users\\Dell\\miniconda3\\envs\\ydata_profiling\\lib\\contextlib.py:79\u001b[0m, in \u001b[0;36mContextDecorator.__call__.<locals>.inner\u001b[1;34m(*args, **kwds)\u001b[0m\n\u001b[0;32m     76\u001b[0m \u001b[39m@wraps\u001b[39m(func)\n\u001b[0;32m     77\u001b[0m \u001b[39mdef\u001b[39;00m \u001b[39minner\u001b[39m(\u001b[39m*\u001b[39margs, \u001b[39m*\u001b[39m\u001b[39m*\u001b[39mkwds):\n\u001b[0;32m     78\u001b[0m     \u001b[39mwith\u001b[39;00m \u001b[39mself\u001b[39m\u001b[39m.\u001b[39m_recreate_cm():\n\u001b[1;32m---> 79\u001b[0m         \u001b[39mreturn\u001b[39;00m func(\u001b[39m*\u001b[39margs, \u001b[39m*\u001b[39m\u001b[39m*\u001b[39mkwds)\n",
      "File \u001b[1;32mc:\\Users\\Dell\\miniconda3\\envs\\ydata_profiling\\lib\\site-packages\\ydata_profiling\\visualisation\\plot.py:367\u001b[0m, in \u001b[0;36mscatter_pairwise\u001b[1;34m(config, series1, series2, x_label, y_label)\u001b[0m\n\u001b[0;32m    365\u001b[0m \u001b[39melse\u001b[39;00m:\n\u001b[0;32m    366\u001b[0m     plt\u001b[39m.\u001b[39mscatter(series1[indices], series2[indices], color\u001b[39m=\u001b[39mcolor)\n\u001b[1;32m--> 367\u001b[0m \u001b[39mreturn\u001b[39;00m plot_360_n0sc0pe(config)\n",
      "File \u001b[1;32mc:\\Users\\Dell\\miniconda3\\envs\\ydata_profiling\\lib\\site-packages\\ydata_profiling\\visualisation\\utils.py:73\u001b[0m, in \u001b[0;36mplot_360_n0sc0pe\u001b[1;34m(config, image_format, bbox_extra_artists, bbox_inches)\u001b[0m\n\u001b[0;32m     70\u001b[0m \u001b[39mif\u001b[39;00m image_format \u001b[39m==\u001b[39m \u001b[39m\"\u001b[39m\u001b[39msvg\u001b[39m\u001b[39m\"\u001b[39m:\n\u001b[0;32m     71\u001b[0m     image_str \u001b[39m=\u001b[39m StringIO()\n\u001b[1;32m---> 73\u001b[0m     plt\u001b[39m.\u001b[39;49msavefig(\n\u001b[0;32m     74\u001b[0m         image_str,\n\u001b[0;32m     75\u001b[0m         \u001b[39mformat\u001b[39;49m\u001b[39m=\u001b[39;49mimage_format,\n\u001b[0;32m     76\u001b[0m         bbox_extra_artists\u001b[39m=\u001b[39;49mbbox_extra_artists,\n\u001b[0;32m     77\u001b[0m         bbox_inches\u001b[39m=\u001b[39;49mbbox_inches,\n\u001b[0;32m     78\u001b[0m     )\n\u001b[0;32m     79\u001b[0m     plt\u001b[39m.\u001b[39mclose()\n\u001b[0;32m     80\u001b[0m     result_string \u001b[39m=\u001b[39m image_str\u001b[39m.\u001b[39mgetvalue()\n",
      "File \u001b[1;32mc:\\Users\\Dell\\miniconda3\\envs\\ydata_profiling\\lib\\site-packages\\matplotlib\\pyplot.py:1023\u001b[0m, in \u001b[0;36msavefig\u001b[1;34m(*args, **kwargs)\u001b[0m\n\u001b[0;32m   1020\u001b[0m \u001b[39m@_copy_docstring_and_deprecators\u001b[39m(Figure\u001b[39m.\u001b[39msavefig)\n\u001b[0;32m   1021\u001b[0m \u001b[39mdef\u001b[39;00m \u001b[39msavefig\u001b[39m(\u001b[39m*\u001b[39margs, \u001b[39m*\u001b[39m\u001b[39m*\u001b[39mkwargs):\n\u001b[0;32m   1022\u001b[0m     fig \u001b[39m=\u001b[39m gcf()\n\u001b[1;32m-> 1023\u001b[0m     res \u001b[39m=\u001b[39m fig\u001b[39m.\u001b[39msavefig(\u001b[39m*\u001b[39margs, \u001b[39m*\u001b[39m\u001b[39m*\u001b[39mkwargs)\n\u001b[0;32m   1024\u001b[0m     fig\u001b[39m.\u001b[39mcanvas\u001b[39m.\u001b[39mdraw_idle()  \u001b[39m# Need this if 'transparent=True', to reset colors.\u001b[39;00m\n\u001b[0;32m   1025\u001b[0m     \u001b[39mreturn\u001b[39;00m res\n",
      "File \u001b[1;32mc:\\Users\\Dell\\miniconda3\\envs\\ydata_profiling\\lib\\site-packages\\matplotlib\\figure.py:3378\u001b[0m, in \u001b[0;36mFigure.savefig\u001b[1;34m(self, fname, transparent, **kwargs)\u001b[0m\n\u001b[0;32m   3374\u001b[0m     \u001b[39mfor\u001b[39;00m ax \u001b[39min\u001b[39;00m \u001b[39mself\u001b[39m\u001b[39m.\u001b[39maxes:\n\u001b[0;32m   3375\u001b[0m         stack\u001b[39m.\u001b[39menter_context(\n\u001b[0;32m   3376\u001b[0m             ax\u001b[39m.\u001b[39mpatch\u001b[39m.\u001b[39m_cm_set(facecolor\u001b[39m=\u001b[39m\u001b[39m'\u001b[39m\u001b[39mnone\u001b[39m\u001b[39m'\u001b[39m, edgecolor\u001b[39m=\u001b[39m\u001b[39m'\u001b[39m\u001b[39mnone\u001b[39m\u001b[39m'\u001b[39m))\n\u001b[1;32m-> 3378\u001b[0m \u001b[39mself\u001b[39m\u001b[39m.\u001b[39mcanvas\u001b[39m.\u001b[39mprint_figure(fname, \u001b[39m*\u001b[39m\u001b[39m*\u001b[39mkwargs)\n",
      "File \u001b[1;32mc:\\Users\\Dell\\miniconda3\\envs\\ydata_profiling\\lib\\site-packages\\matplotlib\\backend_bases.py:2366\u001b[0m, in \u001b[0;36mFigureCanvasBase.print_figure\u001b[1;34m(self, filename, dpi, facecolor, edgecolor, orientation, format, bbox_inches, pad_inches, bbox_extra_artists, backend, **kwargs)\u001b[0m\n\u001b[0;32m   2362\u001b[0m \u001b[39mtry\u001b[39;00m:\n\u001b[0;32m   2363\u001b[0m     \u001b[39m# _get_renderer may change the figure dpi (as vector formats\u001b[39;00m\n\u001b[0;32m   2364\u001b[0m     \u001b[39m# force the figure dpi to 72), so we need to set it again here.\u001b[39;00m\n\u001b[0;32m   2365\u001b[0m     \u001b[39mwith\u001b[39;00m cbook\u001b[39m.\u001b[39m_setattr_cm(\u001b[39mself\u001b[39m\u001b[39m.\u001b[39mfigure, dpi\u001b[39m=\u001b[39mdpi):\n\u001b[1;32m-> 2366\u001b[0m         result \u001b[39m=\u001b[39m print_method(\n\u001b[0;32m   2367\u001b[0m             filename,\n\u001b[0;32m   2368\u001b[0m             facecolor\u001b[39m=\u001b[39mfacecolor,\n\u001b[0;32m   2369\u001b[0m             edgecolor\u001b[39m=\u001b[39medgecolor,\n\u001b[0;32m   2370\u001b[0m             orientation\u001b[39m=\u001b[39morientation,\n\u001b[0;32m   2371\u001b[0m             bbox_inches_restore\u001b[39m=\u001b[39m_bbox_inches_restore,\n\u001b[0;32m   2372\u001b[0m             \u001b[39m*\u001b[39m\u001b[39m*\u001b[39mkwargs)\n\u001b[0;32m   2373\u001b[0m \u001b[39mfinally\u001b[39;00m:\n\u001b[0;32m   2374\u001b[0m     \u001b[39mif\u001b[39;00m bbox_inches \u001b[39mand\u001b[39;00m restore_bbox:\n",
      "File \u001b[1;32mc:\\Users\\Dell\\miniconda3\\envs\\ydata_profiling\\lib\\site-packages\\matplotlib\\backend_bases.py:2232\u001b[0m, in \u001b[0;36mFigureCanvasBase._switch_canvas_and_return_print_method.<locals>.<lambda>\u001b[1;34m(*args, **kwargs)\u001b[0m\n\u001b[0;32m   2228\u001b[0m     optional_kws \u001b[39m=\u001b[39m {  \u001b[39m# Passed by print_figure for other renderers.\u001b[39;00m\n\u001b[0;32m   2229\u001b[0m         \u001b[39m\"\u001b[39m\u001b[39mdpi\u001b[39m\u001b[39m\"\u001b[39m, \u001b[39m\"\u001b[39m\u001b[39mfacecolor\u001b[39m\u001b[39m\"\u001b[39m, \u001b[39m\"\u001b[39m\u001b[39medgecolor\u001b[39m\u001b[39m\"\u001b[39m, \u001b[39m\"\u001b[39m\u001b[39morientation\u001b[39m\u001b[39m\"\u001b[39m,\n\u001b[0;32m   2230\u001b[0m         \u001b[39m\"\u001b[39m\u001b[39mbbox_inches_restore\u001b[39m\u001b[39m\"\u001b[39m}\n\u001b[0;32m   2231\u001b[0m     skip \u001b[39m=\u001b[39m optional_kws \u001b[39m-\u001b[39m {\u001b[39m*\u001b[39minspect\u001b[39m.\u001b[39msignature(meth)\u001b[39m.\u001b[39mparameters}\n\u001b[1;32m-> 2232\u001b[0m     print_method \u001b[39m=\u001b[39m functools\u001b[39m.\u001b[39mwraps(meth)(\u001b[39mlambda\u001b[39;00m \u001b[39m*\u001b[39margs, \u001b[39m*\u001b[39m\u001b[39m*\u001b[39mkwargs: meth(\n\u001b[0;32m   2233\u001b[0m         \u001b[39m*\u001b[39margs, \u001b[39m*\u001b[39m\u001b[39m*\u001b[39m{k: v \u001b[39mfor\u001b[39;00m k, v \u001b[39min\u001b[39;00m kwargs\u001b[39m.\u001b[39mitems() \u001b[39mif\u001b[39;00m k \u001b[39mnot\u001b[39;00m \u001b[39min\u001b[39;00m skip}))\n\u001b[0;32m   2234\u001b[0m \u001b[39melse\u001b[39;00m:  \u001b[39m# Let third-parties do as they see fit.\u001b[39;00m\n\u001b[0;32m   2235\u001b[0m     print_method \u001b[39m=\u001b[39m meth\n",
      "File \u001b[1;32mc:\\Users\\Dell\\miniconda3\\envs\\ydata_profiling\\lib\\site-packages\\matplotlib\\backends\\backend_svg.py:1369\u001b[0m, in \u001b[0;36mFigureCanvasSVG.print_svg\u001b[1;34m(self, filename, bbox_inches_restore, metadata)\u001b[0m\n\u001b[0;32m   1364\u001b[0m w, h \u001b[39m=\u001b[39m width \u001b[39m*\u001b[39m \u001b[39m72\u001b[39m, height \u001b[39m*\u001b[39m \u001b[39m72\u001b[39m\n\u001b[0;32m   1365\u001b[0m renderer \u001b[39m=\u001b[39m MixedModeRenderer(\n\u001b[0;32m   1366\u001b[0m     \u001b[39mself\u001b[39m\u001b[39m.\u001b[39mfigure, width, height, dpi,\n\u001b[0;32m   1367\u001b[0m     RendererSVG(w, h, fh, image_dpi\u001b[39m=\u001b[39mdpi, metadata\u001b[39m=\u001b[39mmetadata),\n\u001b[0;32m   1368\u001b[0m     bbox_inches_restore\u001b[39m=\u001b[39mbbox_inches_restore)\n\u001b[1;32m-> 1369\u001b[0m \u001b[39mself\u001b[39;49m\u001b[39m.\u001b[39;49mfigure\u001b[39m.\u001b[39;49mdraw(renderer)\n\u001b[0;32m   1370\u001b[0m renderer\u001b[39m.\u001b[39mfinalize()\n",
      "File \u001b[1;32mc:\\Users\\Dell\\miniconda3\\envs\\ydata_profiling\\lib\\site-packages\\matplotlib\\artist.py:95\u001b[0m, in \u001b[0;36m_finalize_rasterization.<locals>.draw_wrapper\u001b[1;34m(artist, renderer, *args, **kwargs)\u001b[0m\n\u001b[0;32m     93\u001b[0m \u001b[39m@wraps\u001b[39m(draw)\n\u001b[0;32m     94\u001b[0m \u001b[39mdef\u001b[39;00m \u001b[39mdraw_wrapper\u001b[39m(artist, renderer, \u001b[39m*\u001b[39margs, \u001b[39m*\u001b[39m\u001b[39m*\u001b[39mkwargs):\n\u001b[1;32m---> 95\u001b[0m     result \u001b[39m=\u001b[39m draw(artist, renderer, \u001b[39m*\u001b[39margs, \u001b[39m*\u001b[39m\u001b[39m*\u001b[39mkwargs)\n\u001b[0;32m     96\u001b[0m     \u001b[39mif\u001b[39;00m renderer\u001b[39m.\u001b[39m_rasterizing:\n\u001b[0;32m     97\u001b[0m         renderer\u001b[39m.\u001b[39mstop_rasterizing()\n",
      "File \u001b[1;32mc:\\Users\\Dell\\miniconda3\\envs\\ydata_profiling\\lib\\site-packages\\matplotlib\\artist.py:72\u001b[0m, in \u001b[0;36mallow_rasterization.<locals>.draw_wrapper\u001b[1;34m(artist, renderer)\u001b[0m\n\u001b[0;32m     69\u001b[0m     \u001b[39mif\u001b[39;00m artist\u001b[39m.\u001b[39mget_agg_filter() \u001b[39mis\u001b[39;00m \u001b[39mnot\u001b[39;00m \u001b[39mNone\u001b[39;00m:\n\u001b[0;32m     70\u001b[0m         renderer\u001b[39m.\u001b[39mstart_filter()\n\u001b[1;32m---> 72\u001b[0m     \u001b[39mreturn\u001b[39;00m draw(artist, renderer)\n\u001b[0;32m     73\u001b[0m \u001b[39mfinally\u001b[39;00m:\n\u001b[0;32m     74\u001b[0m     \u001b[39mif\u001b[39;00m artist\u001b[39m.\u001b[39mget_agg_filter() \u001b[39mis\u001b[39;00m \u001b[39mnot\u001b[39;00m \u001b[39mNone\u001b[39;00m:\n",
      "File \u001b[1;32mc:\\Users\\Dell\\miniconda3\\envs\\ydata_profiling\\lib\\site-packages\\matplotlib\\figure.py:3175\u001b[0m, in \u001b[0;36mFigure.draw\u001b[1;34m(self, renderer)\u001b[0m\n\u001b[0;32m   3172\u001b[0m         \u001b[39m# ValueError can occur when resizing a window.\u001b[39;00m\n\u001b[0;32m   3174\u001b[0m \u001b[39mself\u001b[39m\u001b[39m.\u001b[39mpatch\u001b[39m.\u001b[39mdraw(renderer)\n\u001b[1;32m-> 3175\u001b[0m mimage\u001b[39m.\u001b[39;49m_draw_list_compositing_images(\n\u001b[0;32m   3176\u001b[0m     renderer, \u001b[39mself\u001b[39;49m, artists, \u001b[39mself\u001b[39;49m\u001b[39m.\u001b[39;49msuppressComposite)\n\u001b[0;32m   3178\u001b[0m \u001b[39mfor\u001b[39;00m sfig \u001b[39min\u001b[39;00m \u001b[39mself\u001b[39m\u001b[39m.\u001b[39msubfigs:\n\u001b[0;32m   3179\u001b[0m     sfig\u001b[39m.\u001b[39mdraw(renderer)\n",
      "File \u001b[1;32mc:\\Users\\Dell\\miniconda3\\envs\\ydata_profiling\\lib\\site-packages\\matplotlib\\image.py:131\u001b[0m, in \u001b[0;36m_draw_list_compositing_images\u001b[1;34m(renderer, parent, artists, suppress_composite)\u001b[0m\n\u001b[0;32m    129\u001b[0m \u001b[39mif\u001b[39;00m not_composite \u001b[39mor\u001b[39;00m \u001b[39mnot\u001b[39;00m has_images:\n\u001b[0;32m    130\u001b[0m     \u001b[39mfor\u001b[39;00m a \u001b[39min\u001b[39;00m artists:\n\u001b[1;32m--> 131\u001b[0m         a\u001b[39m.\u001b[39;49mdraw(renderer)\n\u001b[0;32m    132\u001b[0m \u001b[39melse\u001b[39;00m:\n\u001b[0;32m    133\u001b[0m     \u001b[39m# Composite any adjacent images together\u001b[39;00m\n\u001b[0;32m    134\u001b[0m     image_group \u001b[39m=\u001b[39m []\n",
      "File \u001b[1;32mc:\\Users\\Dell\\miniconda3\\envs\\ydata_profiling\\lib\\site-packages\\matplotlib\\artist.py:72\u001b[0m, in \u001b[0;36mallow_rasterization.<locals>.draw_wrapper\u001b[1;34m(artist, renderer)\u001b[0m\n\u001b[0;32m     69\u001b[0m     \u001b[39mif\u001b[39;00m artist\u001b[39m.\u001b[39mget_agg_filter() \u001b[39mis\u001b[39;00m \u001b[39mnot\u001b[39;00m \u001b[39mNone\u001b[39;00m:\n\u001b[0;32m     70\u001b[0m         renderer\u001b[39m.\u001b[39mstart_filter()\n\u001b[1;32m---> 72\u001b[0m     \u001b[39mreturn\u001b[39;00m draw(artist, renderer)\n\u001b[0;32m     73\u001b[0m \u001b[39mfinally\u001b[39;00m:\n\u001b[0;32m     74\u001b[0m     \u001b[39mif\u001b[39;00m artist\u001b[39m.\u001b[39mget_agg_filter() \u001b[39mis\u001b[39;00m \u001b[39mnot\u001b[39;00m \u001b[39mNone\u001b[39;00m:\n",
      "File \u001b[1;32mc:\\Users\\Dell\\miniconda3\\envs\\ydata_profiling\\lib\\site-packages\\matplotlib\\axes\\_base.py:3064\u001b[0m, in \u001b[0;36m_AxesBase.draw\u001b[1;34m(self, renderer)\u001b[0m\n\u001b[0;32m   3061\u001b[0m \u001b[39mif\u001b[39;00m artists_rasterized:\n\u001b[0;32m   3062\u001b[0m     _draw_rasterized(\u001b[39mself\u001b[39m\u001b[39m.\u001b[39mfigure, artists_rasterized, renderer)\n\u001b[1;32m-> 3064\u001b[0m mimage\u001b[39m.\u001b[39;49m_draw_list_compositing_images(\n\u001b[0;32m   3065\u001b[0m     renderer, \u001b[39mself\u001b[39;49m, artists, \u001b[39mself\u001b[39;49m\u001b[39m.\u001b[39;49mfigure\u001b[39m.\u001b[39;49msuppressComposite)\n\u001b[0;32m   3067\u001b[0m renderer\u001b[39m.\u001b[39mclose_group(\u001b[39m'\u001b[39m\u001b[39maxes\u001b[39m\u001b[39m'\u001b[39m)\n\u001b[0;32m   3068\u001b[0m \u001b[39mself\u001b[39m\u001b[39m.\u001b[39mstale \u001b[39m=\u001b[39m \u001b[39mFalse\u001b[39;00m\n",
      "File \u001b[1;32mc:\\Users\\Dell\\miniconda3\\envs\\ydata_profiling\\lib\\site-packages\\matplotlib\\image.py:131\u001b[0m, in \u001b[0;36m_draw_list_compositing_images\u001b[1;34m(renderer, parent, artists, suppress_composite)\u001b[0m\n\u001b[0;32m    129\u001b[0m \u001b[39mif\u001b[39;00m not_composite \u001b[39mor\u001b[39;00m \u001b[39mnot\u001b[39;00m has_images:\n\u001b[0;32m    130\u001b[0m     \u001b[39mfor\u001b[39;00m a \u001b[39min\u001b[39;00m artists:\n\u001b[1;32m--> 131\u001b[0m         a\u001b[39m.\u001b[39;49mdraw(renderer)\n\u001b[0;32m    132\u001b[0m \u001b[39melse\u001b[39;00m:\n\u001b[0;32m    133\u001b[0m     \u001b[39m# Composite any adjacent images together\u001b[39;00m\n\u001b[0;32m    134\u001b[0m     image_group \u001b[39m=\u001b[39m []\n",
      "File \u001b[1;32mc:\\Users\\Dell\\miniconda3\\envs\\ydata_profiling\\lib\\site-packages\\matplotlib\\artist.py:72\u001b[0m, in \u001b[0;36mallow_rasterization.<locals>.draw_wrapper\u001b[1;34m(artist, renderer)\u001b[0m\n\u001b[0;32m     69\u001b[0m     \u001b[39mif\u001b[39;00m artist\u001b[39m.\u001b[39mget_agg_filter() \u001b[39mis\u001b[39;00m \u001b[39mnot\u001b[39;00m \u001b[39mNone\u001b[39;00m:\n\u001b[0;32m     70\u001b[0m         renderer\u001b[39m.\u001b[39mstart_filter()\n\u001b[1;32m---> 72\u001b[0m     \u001b[39mreturn\u001b[39;00m draw(artist, renderer)\n\u001b[0;32m     73\u001b[0m \u001b[39mfinally\u001b[39;00m:\n\u001b[0;32m     74\u001b[0m     \u001b[39mif\u001b[39;00m artist\u001b[39m.\u001b[39mget_agg_filter() \u001b[39mis\u001b[39;00m \u001b[39mnot\u001b[39;00m \u001b[39mNone\u001b[39;00m:\n",
      "File \u001b[1;32mc:\\Users\\Dell\\miniconda3\\envs\\ydata_profiling\\lib\\site-packages\\matplotlib\\axis.py:1389\u001b[0m, in \u001b[0;36mAxis.draw\u001b[1;34m(self, renderer, *args, **kwargs)\u001b[0m\n\u001b[0;32m   1386\u001b[0m renderer\u001b[39m.\u001b[39mopen_group(\u001b[39m__name__\u001b[39m, gid\u001b[39m=\u001b[39m\u001b[39mself\u001b[39m\u001b[39m.\u001b[39mget_gid())\n\u001b[0;32m   1388\u001b[0m ticks_to_draw \u001b[39m=\u001b[39m \u001b[39mself\u001b[39m\u001b[39m.\u001b[39m_update_ticks()\n\u001b[1;32m-> 1389\u001b[0m tlb1, tlb2 \u001b[39m=\u001b[39m \u001b[39mself\u001b[39;49m\u001b[39m.\u001b[39;49m_get_ticklabel_bboxes(ticks_to_draw, renderer)\n\u001b[0;32m   1391\u001b[0m \u001b[39mfor\u001b[39;00m tick \u001b[39min\u001b[39;00m ticks_to_draw:\n\u001b[0;32m   1392\u001b[0m     tick\u001b[39m.\u001b[39mdraw(renderer)\n",
      "File \u001b[1;32mc:\\Users\\Dell\\miniconda3\\envs\\ydata_profiling\\lib\\site-packages\\matplotlib\\axis.py:1316\u001b[0m, in \u001b[0;36mAxis._get_ticklabel_bboxes\u001b[1;34m(self, ticks, renderer)\u001b[0m\n\u001b[0;32m   1314\u001b[0m \u001b[39mif\u001b[39;00m renderer \u001b[39mis\u001b[39;00m \u001b[39mNone\u001b[39;00m:\n\u001b[0;32m   1315\u001b[0m     renderer \u001b[39m=\u001b[39m \u001b[39mself\u001b[39m\u001b[39m.\u001b[39mfigure\u001b[39m.\u001b[39m_get_renderer()\n\u001b[1;32m-> 1316\u001b[0m \u001b[39mreturn\u001b[39;00m ([tick\u001b[39m.\u001b[39mlabel1\u001b[39m.\u001b[39mget_window_extent(renderer)\n\u001b[0;32m   1317\u001b[0m          \u001b[39mfor\u001b[39;00m tick \u001b[39min\u001b[39;00m ticks \u001b[39mif\u001b[39;00m tick\u001b[39m.\u001b[39mlabel1\u001b[39m.\u001b[39mget_visible()],\n\u001b[0;32m   1318\u001b[0m         [tick\u001b[39m.\u001b[39mlabel2\u001b[39m.\u001b[39mget_window_extent(renderer)\n\u001b[0;32m   1319\u001b[0m          \u001b[39mfor\u001b[39;00m tick \u001b[39min\u001b[39;00m ticks \u001b[39mif\u001b[39;00m tick\u001b[39m.\u001b[39mlabel2\u001b[39m.\u001b[39mget_visible()])\n",
      "File \u001b[1;32mc:\\Users\\Dell\\miniconda3\\envs\\ydata_profiling\\lib\\site-packages\\matplotlib\\axis.py:1316\u001b[0m, in \u001b[0;36m<listcomp>\u001b[1;34m(.0)\u001b[0m\n\u001b[0;32m   1314\u001b[0m \u001b[39mif\u001b[39;00m renderer \u001b[39mis\u001b[39;00m \u001b[39mNone\u001b[39;00m:\n\u001b[0;32m   1315\u001b[0m     renderer \u001b[39m=\u001b[39m \u001b[39mself\u001b[39m\u001b[39m.\u001b[39mfigure\u001b[39m.\u001b[39m_get_renderer()\n\u001b[1;32m-> 1316\u001b[0m \u001b[39mreturn\u001b[39;00m ([tick\u001b[39m.\u001b[39;49mlabel1\u001b[39m.\u001b[39;49mget_window_extent(renderer)\n\u001b[0;32m   1317\u001b[0m          \u001b[39mfor\u001b[39;00m tick \u001b[39min\u001b[39;00m ticks \u001b[39mif\u001b[39;00m tick\u001b[39m.\u001b[39mlabel1\u001b[39m.\u001b[39mget_visible()],\n\u001b[0;32m   1318\u001b[0m         [tick\u001b[39m.\u001b[39mlabel2\u001b[39m.\u001b[39mget_window_extent(renderer)\n\u001b[0;32m   1319\u001b[0m          \u001b[39mfor\u001b[39;00m tick \u001b[39min\u001b[39;00m ticks \u001b[39mif\u001b[39;00m tick\u001b[39m.\u001b[39mlabel2\u001b[39m.\u001b[39mget_visible()])\n",
      "File \u001b[1;32mc:\\Users\\Dell\\miniconda3\\envs\\ydata_profiling\\lib\\site-packages\\matplotlib\\text.py:959\u001b[0m, in \u001b[0;36mText.get_window_extent\u001b[1;34m(self, renderer, dpi)\u001b[0m\n\u001b[0;32m    954\u001b[0m     \u001b[39mraise\u001b[39;00m \u001b[39mRuntimeError\u001b[39;00m(\n\u001b[0;32m    955\u001b[0m         \u001b[39m\"\u001b[39m\u001b[39mCannot get window extent of text w/o renderer. You likely \u001b[39m\u001b[39m\"\u001b[39m\n\u001b[0;32m    956\u001b[0m         \u001b[39m\"\u001b[39m\u001b[39mwant to call \u001b[39m\u001b[39m'\u001b[39m\u001b[39mfigure.draw_without_rendering()\u001b[39m\u001b[39m'\u001b[39m\u001b[39m first.\u001b[39m\u001b[39m\"\u001b[39m)\n\u001b[0;32m    958\u001b[0m \u001b[39mwith\u001b[39;00m cbook\u001b[39m.\u001b[39m_setattr_cm(\u001b[39mself\u001b[39m\u001b[39m.\u001b[39mfigure, dpi\u001b[39m=\u001b[39mdpi):\n\u001b[1;32m--> 959\u001b[0m     bbox, info, descent \u001b[39m=\u001b[39m \u001b[39mself\u001b[39;49m\u001b[39m.\u001b[39;49m_get_layout(\u001b[39mself\u001b[39;49m\u001b[39m.\u001b[39;49m_renderer)\n\u001b[0;32m    960\u001b[0m     x, y \u001b[39m=\u001b[39m \u001b[39mself\u001b[39m\u001b[39m.\u001b[39mget_unitless_position()\n\u001b[0;32m    961\u001b[0m     x, y \u001b[39m=\u001b[39m \u001b[39mself\u001b[39m\u001b[39m.\u001b[39mget_transform()\u001b[39m.\u001b[39mtransform((x, y))\n",
      "File \u001b[1;32mc:\\Users\\Dell\\miniconda3\\envs\\ydata_profiling\\lib\\site-packages\\matplotlib\\text.py:507\u001b[0m, in \u001b[0;36mText._get_layout\u001b[1;34m(self, renderer)\u001b[0m\n\u001b[0;32m    504\u001b[0m xmin \u001b[39m-\u001b[39m\u001b[39m=\u001b[39m offsetx\n\u001b[0;32m    505\u001b[0m ymin \u001b[39m-\u001b[39m\u001b[39m=\u001b[39m offsety\n\u001b[1;32m--> 507\u001b[0m bbox \u001b[39m=\u001b[39m Bbox\u001b[39m.\u001b[39;49mfrom_bounds(xmin, ymin, width, height)\n\u001b[0;32m    509\u001b[0m \u001b[39m# now rotate the positions around the first (x, y) position\u001b[39;00m\n\u001b[0;32m    510\u001b[0m xys \u001b[39m=\u001b[39m M\u001b[39m.\u001b[39mtransform(offset_layout) \u001b[39m-\u001b[39m (offsetx, offsety)\n",
      "File \u001b[1;32mc:\\Users\\Dell\\miniconda3\\envs\\ydata_profiling\\lib\\site-packages\\matplotlib\\transforms.py:807\u001b[0m, in \u001b[0;36mBbox.from_bounds\u001b[1;34m(x0, y0, width, height)\u001b[0m\n\u001b[0;32m    800\u001b[0m \u001b[39m@staticmethod\u001b[39m\n\u001b[0;32m    801\u001b[0m \u001b[39mdef\u001b[39;00m \u001b[39mfrom_bounds\u001b[39m(x0, y0, width, height):\n\u001b[0;32m    802\u001b[0m \u001b[39m    \u001b[39m\u001b[39m\"\"\"\u001b[39;00m\n\u001b[0;32m    803\u001b[0m \u001b[39m    Create a new `Bbox` from *x0*, *y0*, *width* and *height*.\u001b[39;00m\n\u001b[0;32m    804\u001b[0m \n\u001b[0;32m    805\u001b[0m \u001b[39m    *width* and *height* may be negative.\u001b[39;00m\n\u001b[0;32m    806\u001b[0m \u001b[39m    \"\"\"\u001b[39;00m\n\u001b[1;32m--> 807\u001b[0m     \u001b[39mreturn\u001b[39;00m Bbox\u001b[39m.\u001b[39;49mfrom_extents(x0, y0, x0 \u001b[39m+\u001b[39;49m width, y0 \u001b[39m+\u001b[39;49m height)\n",
      "File \u001b[1;32mc:\\Users\\Dell\\miniconda3\\envs\\ydata_profiling\\lib\\site-packages\\matplotlib\\transforms.py:826\u001b[0m, in \u001b[0;36mBbox.from_extents\u001b[1;34m(minpos, *args)\u001b[0m\n\u001b[0;32m    809\u001b[0m \u001b[39m@staticmethod\u001b[39m\n\u001b[0;32m    810\u001b[0m \u001b[39mdef\u001b[39;00m \u001b[39mfrom_extents\u001b[39m(\u001b[39m*\u001b[39margs, minpos\u001b[39m=\u001b[39m\u001b[39mNone\u001b[39;00m):\n\u001b[0;32m    811\u001b[0m \u001b[39m    \u001b[39m\u001b[39m\"\"\"\u001b[39;00m\n\u001b[0;32m    812\u001b[0m \u001b[39m    Create a new Bbox from *left*, *bottom*, *right* and *top*.\u001b[39;00m\n\u001b[0;32m    813\u001b[0m \n\u001b[1;32m   (...)\u001b[0m\n\u001b[0;32m    824\u001b[0m \u001b[39m       scales where negative bounds result in floating point errors.\u001b[39;00m\n\u001b[0;32m    825\u001b[0m \u001b[39m    \"\"\"\u001b[39;00m\n\u001b[1;32m--> 826\u001b[0m     bbox \u001b[39m=\u001b[39m Bbox(np\u001b[39m.\u001b[39;49mreshape(args, (\u001b[39m2\u001b[39;49m, \u001b[39m2\u001b[39;49m)))\n\u001b[0;32m    827\u001b[0m     \u001b[39mif\u001b[39;00m minpos \u001b[39mis\u001b[39;00m \u001b[39mnot\u001b[39;00m \u001b[39mNone\u001b[39;00m:\n\u001b[0;32m    828\u001b[0m         bbox\u001b[39m.\u001b[39m_minpos[:] \u001b[39m=\u001b[39m minpos\n",
      "File \u001b[1;32mc:\\Users\\Dell\\miniconda3\\envs\\ydata_profiling\\lib\\site-packages\\matplotlib\\transforms.py:772\u001b[0m, in \u001b[0;36mBbox.__init__\u001b[1;34m(self, points, **kwargs)\u001b[0m\n\u001b[0;32m    768\u001b[0m \u001b[39mself\u001b[39m\u001b[39m.\u001b[39m_ignore \u001b[39m=\u001b[39m \u001b[39mTrue\u001b[39;00m\n\u001b[0;32m    769\u001b[0m \u001b[39m# it is helpful in some contexts to know if the bbox is a\u001b[39;00m\n\u001b[0;32m    770\u001b[0m \u001b[39m# default or has been mutated; we store the orig points to\u001b[39;00m\n\u001b[0;32m    771\u001b[0m \u001b[39m# support the mutated methods\u001b[39;00m\n\u001b[1;32m--> 772\u001b[0m \u001b[39mself\u001b[39m\u001b[39m.\u001b[39m_points_orig \u001b[39m=\u001b[39m \u001b[39mself\u001b[39;49m\u001b[39m.\u001b[39;49m_points\u001b[39m.\u001b[39;49mcopy()\n",
      "\u001b[1;31mKeyboardInterrupt\u001b[0m: "
     ]
    }
   ],
   "source": [
    "# ydata profile report\n",
    "profile = yd.ProfileReport(df_pop)\n",
    "profile.to_file(output_file='./output/03_ydata_pak_population.html')"
   ]
  }
 ],
 "metadata": {
  "kernelspec": {
   "display_name": "ydata_profiling",
   "language": "python",
   "name": "python3"
  },
  "language_info": {
   "codemirror_mode": {
    "name": "ipython",
    "version": 3
   },
   "file_extension": ".py",
   "mimetype": "text/x-python",
   "name": "python",
   "nbconvert_exporter": "python",
   "pygments_lexer": "ipython3",
   "version": "3.10.0"
  }
 },
 "nbformat": 4,
 "nbformat_minor": 2
}
